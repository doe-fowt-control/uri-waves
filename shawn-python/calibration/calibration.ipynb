{
 "cells": [
  {
   "cell_type": "code",
   "execution_count": 2,
   "metadata": {
    "collapsed": true
   },
   "outputs": [],
   "source": [
    "import pandas as pd\n",
    "import numpy as np\n",
    "import matplotlib.pyplot as plt\n",
    "from sklearn.linear_model import LinearRegression\n",
    "from sklearn import preprocessing\n",
    "%matplotlib inline"
   ]
  },
  {
   "cell_type": "markdown",
   "metadata": {},
   "source": [
    "Load raw calibration data"
   ]
  },
  {
   "cell_type": "code",
   "execution_count": 4,
   "metadata": {
    "collapsed": true
   },
   "outputs": [],
   "source": [
    "# Name of file with calibration data\n",
    "cal_file = \"../../data/9_28_21/9_28_21_calibration2.lvm\"\n",
    "\n",
    "# Load data with pandas read_csv function\n",
    "cal_data = pd.read_csv(\n",
    "    cal_file,      # load file\n",
    "    sep = '\\t',    # define separator\n",
    "    skiprows = 23, # skip labview junk\n",
    "    usecols=np.arange(1,7), # select columns with relevant data\n",
    "    names = [      # rename columns for make_regression function\n",
    "        'yellow_g', 'red_g', 'blue_g', # gauges\n",
    "        'yellow_p', 'red_p', 'blue_p', # pots\n",
    "    ]\n",
    ")"
   ]
  },
  {
   "cell_type": "code",
   "execution_count": 5,
   "metadata": {},
   "outputs": [
    {
     "data": {
      "text/html": [
       "<div>\n",
       "<style scoped>\n",
       "    .dataframe tbody tr th:only-of-type {\n",
       "        vertical-align: middle;\n",
       "    }\n",
       "\n",
       "    .dataframe tbody tr th {\n",
       "        vertical-align: top;\n",
       "    }\n",
       "\n",
       "    .dataframe thead th {\n",
       "        text-align: right;\n",
       "    }\n",
       "</style>\n",
       "<table border=\"1\" class=\"dataframe\">\n",
       "  <thead>\n",
       "    <tr style=\"text-align: right;\">\n",
       "      <th></th>\n",
       "      <th>yellow_g</th>\n",
       "      <th>red_g</th>\n",
       "      <th>blue_g</th>\n",
       "      <th>yellow_p</th>\n",
       "      <th>red_p</th>\n",
       "      <th>blue_p</th>\n",
       "    </tr>\n",
       "  </thead>\n",
       "  <tbody>\n",
       "    <tr>\n",
       "      <th>0</th>\n",
       "      <td>4.323592</td>\n",
       "      <td>4.577590</td>\n",
       "      <td>4.415512</td>\n",
       "      <td>2.333839</td>\n",
       "      <td>1.139864</td>\n",
       "      <td>1.823249</td>\n",
       "    </tr>\n",
       "    <tr>\n",
       "      <th>1</th>\n",
       "      <td>4.322292</td>\n",
       "      <td>4.577915</td>\n",
       "      <td>4.413563</td>\n",
       "      <td>2.331241</td>\n",
       "      <td>1.138240</td>\n",
       "      <td>1.821625</td>\n",
       "    </tr>\n",
       "    <tr>\n",
       "      <th>2</th>\n",
       "      <td>4.320343</td>\n",
       "      <td>4.578564</td>\n",
       "      <td>4.410640</td>\n",
       "      <td>2.331890</td>\n",
       "      <td>1.138565</td>\n",
       "      <td>1.822274</td>\n",
       "    </tr>\n",
       "    <tr>\n",
       "      <th>3</th>\n",
       "      <td>4.316121</td>\n",
       "      <td>4.580189</td>\n",
       "      <td>4.409340</td>\n",
       "      <td>2.331241</td>\n",
       "      <td>1.137591</td>\n",
       "      <td>1.820650</td>\n",
       "    </tr>\n",
       "    <tr>\n",
       "      <th>4</th>\n",
       "      <td>4.320668</td>\n",
       "      <td>4.574017</td>\n",
       "      <td>4.413238</td>\n",
       "      <td>2.331241</td>\n",
       "      <td>1.137915</td>\n",
       "      <td>1.821300</td>\n",
       "    </tr>\n",
       "    <tr>\n",
       "      <th>...</th>\n",
       "      <td>...</td>\n",
       "      <td>...</td>\n",
       "      <td>...</td>\n",
       "      <td>...</td>\n",
       "      <td>...</td>\n",
       "      <td>...</td>\n",
       "    </tr>\n",
       "    <tr>\n",
       "      <th>7775</th>\n",
       "      <td>1.887885</td>\n",
       "      <td>2.490394</td>\n",
       "      <td>2.143180</td>\n",
       "      <td>0.734836</td>\n",
       "      <td>0.465899</td>\n",
       "      <td>0.502602</td>\n",
       "    </tr>\n",
       "    <tr>\n",
       "      <th>7776</th>\n",
       "      <td>1.888534</td>\n",
       "      <td>2.489095</td>\n",
       "      <td>2.145129</td>\n",
       "      <td>0.735485</td>\n",
       "      <td>0.465575</td>\n",
       "      <td>0.502277</td>\n",
       "    </tr>\n",
       "    <tr>\n",
       "      <th>7777</th>\n",
       "      <td>1.887560</td>\n",
       "      <td>2.490394</td>\n",
       "      <td>2.147727</td>\n",
       "      <td>0.736135</td>\n",
       "      <td>0.466224</td>\n",
       "      <td>0.502602</td>\n",
       "    </tr>\n",
       "    <tr>\n",
       "      <th>7778</th>\n",
       "      <td>1.890808</td>\n",
       "      <td>2.490070</td>\n",
       "      <td>2.146753</td>\n",
       "      <td>0.737434</td>\n",
       "      <td>0.468173</td>\n",
       "      <td>0.504226</td>\n",
       "    </tr>\n",
       "    <tr>\n",
       "      <th>7779</th>\n",
       "      <td>1.889184</td>\n",
       "      <td>2.492993</td>\n",
       "      <td>2.146753</td>\n",
       "      <td>0.736784</td>\n",
       "      <td>0.466874</td>\n",
       "      <td>0.503252</td>\n",
       "    </tr>\n",
       "  </tbody>\n",
       "</table>\n",
       "<p>7780 rows × 6 columns</p>\n",
       "</div>"
      ],
      "text/plain": [
       "      yellow_g     red_g    blue_g  yellow_p     red_p    blue_p\n",
       "0     4.323592  4.577590  4.415512  2.333839  1.139864  1.823249\n",
       "1     4.322292  4.577915  4.413563  2.331241  1.138240  1.821625\n",
       "2     4.320343  4.578564  4.410640  2.331890  1.138565  1.822274\n",
       "3     4.316121  4.580189  4.409340  2.331241  1.137591  1.820650\n",
       "4     4.320668  4.574017  4.413238  2.331241  1.137915  1.821300\n",
       "...        ...       ...       ...       ...       ...       ...\n",
       "7775  1.887885  2.490394  2.143180  0.734836  0.465899  0.502602\n",
       "7776  1.888534  2.489095  2.145129  0.735485  0.465575  0.502277\n",
       "7777  1.887560  2.490394  2.147727  0.736135  0.466224  0.502602\n",
       "7778  1.890808  2.490070  2.146753  0.737434  0.468173  0.504226\n",
       "7779  1.889184  2.492993  2.146753  0.736784  0.466874  0.503252\n",
       "\n",
       "[7780 rows x 6 columns]"
      ]
     },
     "execution_count": 5,
     "metadata": {},
     "output_type": "execute_result"
    }
   ],
   "source": [
    "cal_data"
   ]
  },
  {
   "cell_type": "markdown",
   "metadata": {},
   "source": [
    "Make linear regression model with sklearn"
   ]
  },
  {
   "cell_type": "code",
   "execution_count": 6,
   "metadata": {},
   "outputs": [
    {
     "data": {
      "image/png": "[encoded data removed]",
      "text/plain": [
       "<Figure size 432x288 with 1 Axes>"
      ]
     },
     "metadata": {},
     "output_type": "display_data"
    }
   ],
   "source": [
    "def make_regression(data, color, plot = True):\n",
    "    \"\"\"\n",
    "    Uses sklearn linear regression tool to make linear models for each wave gauge\n",
    "        data - pandas DataFrame with specific column naming convention\n",
    "        color - color of wave gauge/pot unit\n",
    "        plot - decides whether or not to make a plot of the result\n",
    "    Returns: \n",
    "        Linear regression model\n",
    "        \n",
    "    \"\"\"\n",
    "    # values converts it into a numpy array\n",
    "    # -1 means that calculate the dimension of rows, but have 1 column\n",
    "    \n",
    "    X = data.loc[:, color + \"_g\"].values.reshape(-1, 1) # voltage as input\n",
    "    Y = data.loc[:, color + \"_p\"].values.reshape(-1, 1) * 10 # potentiometer \"height\" as output\n",
    "    linear_regressor = LinearRegression()\n",
    "    model = linear_regressor.fit(X, Y)\n",
    "    \n",
    "    if plot:\n",
    "        plt.scatter(X, Y, color = 'k', alpha = 0.1)\n",
    "        plt.plot(X, model.predict(X), color = color, label = color)\n",
    "        plt.ylabel(\"Potentiometer (cm)\")\n",
    "        plt.xlabel(\"Wave gauge (V)\")\n",
    "        plt.title(\"Linearization curve\")\n",
    "        plt.legend()\n",
    "    return model\n",
    "\n",
    "yellow_model = make_regression(cal_data, \"yellow\")\n",
    "red_model = make_regression(cal_data, \"red\")\n",
    "blue_model = make_regression(cal_data, \"blue\")"
   ]
  },
  {
   "cell_type": "markdown",
   "metadata": {},
   "source": [
    "Take sklearn model and put it in y=mx+b form, store as `lambda` function"
   ]
  },
  {
   "cell_type": "code",
   "execution_count": 5,
   "metadata": {
    "collapsed": true
   },
   "outputs": [],
   "source": [
    "def model_func(model):\n",
    "    '''\n",
    "    extract line equation from sklearn linear regression\n",
    "    '''\n",
    "    # Slope of line is rise / run, run = 1\n",
    "    b = model.predict([[0]]).tolist()[0][0]\n",
    "    m = model.predict([[1]]).tolist()[0][0] - b\n",
    "    \n",
    "    # Return line with no intercept - assumes data is centered on mean\n",
    "    return lambda x: m * x\n",
    "\n",
    "yellow_func = model_func(yellow_model)\n",
    "blue_func = model_func(blue_model)\n",
    "red_func = model_func(red_model)"
   ]
  },
  {
   "cell_type": "markdown",
   "metadata": {},
   "source": [
    "## Calibration slopes\n",
    "Yellow gauge"
   ]
  },
  {
   "cell_type": "code",
   "execution_count": 10,
   "metadata": {},
   "outputs": [
    {
     "data": {
      "text/plain": [
       "6.552795795004875"
      ]
     },
     "execution_count": 10,
     "metadata": {},
     "output_type": "execute_result"
    }
   ],
   "source": [
    "yellow_func(1)"
   ]
  },
  {
   "cell_type": "markdown",
   "metadata": {},
   "source": [
    "Blue gauge"
   ]
  },
  {
   "cell_type": "code",
   "execution_count": 11,
   "metadata": {},
   "outputs": [
    {
     "data": {
      "text/plain": [
       "5.82344731575862"
      ]
     },
     "execution_count": 11,
     "metadata": {},
     "output_type": "execute_result"
    }
   ],
   "source": [
    "blue_func(1)"
   ]
  },
  {
   "cell_type": "markdown",
   "metadata": {},
   "source": [
    "Red gauge"
   ]
  },
  {
   "cell_type": "code",
   "execution_count": 12,
   "metadata": {},
   "outputs": [
    {
     "data": {
      "text/plain": [
       "3.177856066860256"
      ]
     },
     "execution_count": 12,
     "metadata": {},
     "output_type": "execute_result"
    }
   ],
   "source": [
    "red_func(1)"
   ]
  },
  {
   "cell_type": "markdown",
   "metadata": {},
   "source": [
    "Load wave data, center on mean"
   ]
  },
  {
   "cell_type": "code",
   "execution_count": 6,
   "metadata": {},
   "outputs": [
    {
     "data": {
      "text/plain": [
       "(50.0, 100.0)"
      ]
     },
     "execution_count": 6,
     "metadata": {},
     "output_type": "execute_result"
    },
    {
     "data": {
      "image/png": "[encoded data removed]",
      "text/plain": [
       "<Figure size 432x288 with 1 Axes>"
      ]
     },
     "metadata": {},
     "output_type": "display_data"
    }
   ],
   "source": [
    "data_file = \"../data/9_28_21/9_28_21_waves_5_1.8.lvm\"\n",
    "wave_data = pd.read_csv(\n",
    "    data_file,\n",
    "    sep = '\\t', \n",
    "    skiprows = 23, \n",
    "    usecols = [0,1,2,3], \n",
    "    names = ['time', 'yellow', 'red', 'blue'],\n",
    "    index_col = 0\n",
    ")\n",
    "\n",
    "# center on mean\n",
    "wave_data = wave_data.apply(lambda x: x-x.mean())\n",
    "\n",
    "plt.plot(wave_data[\"yellow\"])\n",
    "plt.xlim([50, 100]) # seconds"
   ]
  },
  {
   "cell_type": "markdown",
   "metadata": {},
   "source": [
    "## `TODO`"
   ]
  },
  {
   "cell_type": "code",
   "execution_count": 7,
   "metadata": {},
   "outputs": [
    {
     "data": {
      "text/plain": [
       "(0.0, 5.0)"
      ]
     },
     "execution_count": 7,
     "metadata": {},
     "output_type": "execute_result"
    },
    {
     "data": {
      "image/png": "[encoded data removed]",
      "text/plain": [
       "<Figure size 432x288 with 1 Axes>"
      ]
     },
     "metadata": {},
     "output_type": "display_data"
    }
   ],
   "source": [
    "from numpy.fft import fft, ifft\n",
    "sr = 100 # samples/second\n",
    "\n",
    "X = fft(wave_data['yellow'])\n",
    "N = len(X)\n",
    "n = np.arange(N)\n",
    "T = N/sr\n",
    "freq = n/T \n",
    "\n",
    "\n",
    "plt.stem(freq, np.abs(X), 'b', \\\n",
    "         markerfmt=\" \", basefmt=\"-b\")\n",
    "plt.xlabel('Freq (Hz)')\n",
    "plt.ylabel('FFT Amplitude |X(freq)|')\n",
    "plt.xlim(0,5)"
   ]
  },
  {
   "cell_type": "code",
   "execution_count": 8,
   "metadata": {
    "collapsed": true
   },
   "outputs": [],
   "source": [
    "# https://scipy-cookbook.readthedocs.io/items/ButterworthBandpass.html\n",
    "\n",
    "from scipy.signal import butter, lfilter\n",
    "\n",
    "def butter_bandpass(lowcut, highcut, fs, order=5):\n",
    "    nyq = 0.5 * fs\n",
    "    low = lowcut / nyq\n",
    "    high = highcut / nyq\n",
    "    b, a = butter(order, [low, high], btype='band')\n",
    "    return b, a\n",
    "\n",
    "\n",
    "def butter_bandpass_filter(data, lowcut, highcut, fs, order=5):\n",
    "    b, a = butter_bandpass(lowcut, highcut, fs, order=order)\n",
    "    y = lfilter(b, a, data)\n",
    "    return y"
   ]
  },
  {
   "cell_type": "code",
   "execution_count": 9,
   "metadata": {},
   "outputs": [
    {
     "ename": "NameError",
     "evalue": "name 'wave_height' is not defined",
     "output_type": "error",
     "traceback": [
      "\u001b[1;31m---------------------------------------------------------------------------\u001b[0m",
      "\u001b[1;31mNameError\u001b[0m                                 Traceback (most recent call last)",
      "\u001b[1;32m<ipython-input-9-d342b131e16c>\u001b[0m in \u001b[0;36m<module>\u001b[1;34m()\u001b[0m\n\u001b[0;32m      9\u001b[0m \u001b[1;33m\u001b[0m\u001b[0m\n\u001b[0;32m     10\u001b[0m \u001b[0mb\u001b[0m\u001b[1;33m,\u001b[0m \u001b[0ma\u001b[0m \u001b[1;33m=\u001b[0m \u001b[0mbutter_bandpass\u001b[0m\u001b[1;33m(\u001b[0m\u001b[0mf_lo\u001b[0m\u001b[1;33m,\u001b[0m \u001b[0mf_hi\u001b[0m\u001b[1;33m,\u001b[0m \u001b[0mfs\u001b[0m\u001b[1;33m,\u001b[0m \u001b[0morder\u001b[0m \u001b[1;33m=\u001b[0m \u001b[1;36m10\u001b[0m\u001b[1;33m)\u001b[0m\u001b[1;33m\u001b[0m\u001b[0m\n\u001b[1;32m---> 11\u001b[1;33m \u001b[0my\u001b[0m \u001b[1;33m=\u001b[0m \u001b[0mbutter_bandpass_filter\u001b[0m\u001b[1;33m(\u001b[0m\u001b[0mwave_height\u001b[0m\u001b[1;33m[\u001b[0m\u001b[1;34m'yellow'\u001b[0m\u001b[1;33m]\u001b[0m\u001b[1;33m,\u001b[0m \u001b[0mf_lo\u001b[0m\u001b[1;33m,\u001b[0m \u001b[0mf_hi\u001b[0m\u001b[1;33m,\u001b[0m \u001b[0mfs\u001b[0m\u001b[1;33m)\u001b[0m\u001b[1;33m\u001b[0m\u001b[0m\n\u001b[0m\u001b[0;32m     12\u001b[0m \u001b[0mplt\u001b[0m\u001b[1;33m.\u001b[0m\u001b[0mplot\u001b[0m\u001b[1;33m(\u001b[0m\u001b[0my\u001b[0m\u001b[1;33m[\u001b[0m\u001b[1;36m0\u001b[0m\u001b[1;33m:\u001b[0m\u001b[1;33m-\u001b[0m\u001b[1;36m3000\u001b[0m\u001b[1;33m]\u001b[0m\u001b[1;33m)\u001b[0m\u001b[1;33m\u001b[0m\u001b[0m\n",
      "\u001b[1;31mNameError\u001b[0m: name 'wave_height' is not defined"
     ]
    }
   ],
   "source": [
    "# fs = 100\n",
    "# T = 1.8\n",
    "# f_target = 1 / T\n",
    "# var = .99\n",
    "# # f_lo = f_target - f_target * var\n",
    "# # f_hi = f_target + f_target * var\n",
    "# f_lo = .05\n",
    "# f_hi = 5\n",
    "\n",
    "# b, a = butter_bandpass(f_lo, f_hi, fs, order = 10)\n",
    "# y = butter_bandpass_filter(wave_height['yellow'], f_lo, f_hi, fs)\n",
    "# plt.plot(y[0:-3000])"
   ]
  },
  {
   "cell_type": "code",
   "execution_count": null,
   "metadata": {},
   "outputs": [],
   "source": [
    "wave_data"
   ]
  },
  {
   "cell_type": "markdown",
   "metadata": {},
   "source": [
    "Turn voltages into heights with respective calibration curves"
   ]
  },
  {
   "cell_type": "code",
   "execution_count": null,
   "metadata": {
    "collapsed": true
   },
   "outputs": [],
   "source": []
  },
  {
   "cell_type": "code",
   "execution_count": null,
   "metadata": {
    "collapsed": true
   },
   "outputs": [],
   "source": []
  },
  {
   "cell_type": "code",
   "execution_count": null,
   "metadata": {
    "collapsed": true
   },
   "outputs": [],
   "source": []
  },
  {
   "cell_type": "code",
   "execution_count": null,
   "metadata": {
    "collapsed": true
   },
   "outputs": [],
   "source": []
  },
  {
   "cell_type": "code",
   "execution_count": null,
   "metadata": {
    "collapsed": true
   },
   "outputs": [],
   "source": []
  },
  {
   "cell_type": "code",
   "execution_count": null,
   "metadata": {
    "collapsed": true
   },
   "outputs": [],
   "source": []
  },
  {
   "cell_type": "code",
   "execution_count": null,
   "metadata": {
    "collapsed": true
   },
   "outputs": [],
   "source": []
  },
  {
   "cell_type": "code",
   "execution_count": null,
   "metadata": {
    "collapsed": true
   },
   "outputs": [],
   "source": []
  },
  {
   "cell_type": "code",
   "execution_count": null,
   "metadata": {},
   "outputs": [],
   "source": [
    "class Measurement:\n",
    "    def __init__(self, label, height_func, location):\n",
    "        \"\"\"\n",
    "        location (1 or 2 tuple) relative to wind turbine global frame of reference\n",
    "        height_func (lambda) equation to translate raw data into actual wave heights\n",
    "        \"\"\"\n",
    "        self.label = label\n",
    "        self.height_func = height_func\n",
    "        self.location = location\n",
    "        \n",
    "    def get_height():\n",
    "        "
   ]
  },
  {
   "cell_type": "code",
   "execution_count": null,
   "metadata": {
    "collapsed": true
   },
   "outputs": [],
   "source": []
  }
 ],
 "metadata": {
  "interpreter": {
   "hash": "ecf5722fdaf1897a315d257d89d94520bfcaa453217d5becf09b39e73618b0de"
  },
  "kernelspec": {
   "display_name": "Python 3.6.1 64-bit",
   "name": "python3"
  },
  "language_info": {
   "codemirror_mode": {
    "name": "ipython",
    "version": 3
   },
   "file_extension": ".py",
   "mimetype": "text/x-python",
   "name": "python",
   "nbconvert_exporter": "python",
   "pygments_lexer": "ipython3",
   "version": "3.6.1"
  }
 },
 "nbformat": 4,
 "nbformat_minor": 2
}
