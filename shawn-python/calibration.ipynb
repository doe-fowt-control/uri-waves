{
 "cells": [
  {
   "cell_type": "code",
   "execution_count": 1,
   "metadata": {
    "collapsed": true
   },
   "outputs": [],
   "source": [
    "import pandas as pd\n",
    "import numpy as np\n",
    "import matplotlib.pyplot as plt\n",
    "from sklearn.linear_model import LinearRegression\n",
    "from sklearn import preprocessing\n",
    "%matplotlib inline"
   ]
  },
  {
   "cell_type": "markdown",
   "metadata": {},
   "source": [
    "Load raw calibration data"
   ]
  },
  {
   "cell_type": "code",
   "execution_count": 2,
   "metadata": {
    "collapsed": true
   },
   "outputs": [],
   "source": [
    "# Name of file with calibration data\n",
    "cal_file = \"../data/9_28_21/9_28_21_calibration2.lvm\"\n",
    "\n",
    "# Load data with pandas read_csv function\n",
    "cal_data = pd.read_csv(\n",
    "    cal_file,      # load file\n",
    "    sep = '\\t',    # define separator\n",
    "    skiprows = 23, # skip labview junk\n",
    "    usecols=np.arange(1,7), # select columns with relevant data\n",
    "    names = [      # rename columns for make_regression function\n",
    "        'yellow_g', 'red_g', 'blue_g', # gauges\n",
    "        'yellow_p', 'red_p', 'blue_p', # pots\n",
    "    ]\n",
    ")"
   ]
  },
  {
   "cell_type": "code",
   "execution_count": 3,
   "metadata": {},
   "outputs": [
    {
     "data": {
      "text/html": [
       "<div>\n",
       "<style scoped>\n",
       "    .dataframe tbody tr th:only-of-type {\n",
       "        vertical-align: middle;\n",
       "    }\n",
       "\n",
       "    .dataframe tbody tr th {\n",
       "        vertical-align: top;\n",
       "    }\n",
       "\n",
       "    .dataframe thead th {\n",
       "        text-align: right;\n",
       "    }\n",
       "</style>\n",
       "<table border=\"1\" class=\"dataframe\">\n",
       "  <thead>\n",
       "    <tr style=\"text-align: right;\">\n",
       "      <th></th>\n",
       "      <th>yellow_g</th>\n",
       "      <th>red_g</th>\n",
       "      <th>blue_g</th>\n",
       "      <th>yellow_p</th>\n",
       "      <th>red_p</th>\n",
       "      <th>blue_p</th>\n",
       "    </tr>\n",
       "  </thead>\n",
       "  <tbody>\n",
       "    <tr>\n",
       "      <th>0</th>\n",
       "      <td>4.323592</td>\n",
       "      <td>4.577590</td>\n",
       "      <td>4.415512</td>\n",
       "      <td>2.333839</td>\n",
       "      <td>1.139864</td>\n",
       "      <td>1.823249</td>\n",
       "    </tr>\n",
       "    <tr>\n",
       "      <th>1</th>\n",
       "      <td>4.322292</td>\n",
       "      <td>4.577915</td>\n",
       "      <td>4.413563</td>\n",
       "      <td>2.331241</td>\n",
       "      <td>1.138240</td>\n",
       "      <td>1.821625</td>\n",
       "    </tr>\n",
       "    <tr>\n",
       "      <th>2</th>\n",
       "      <td>4.320343</td>\n",
       "      <td>4.578564</td>\n",
       "      <td>4.410640</td>\n",
       "      <td>2.331890</td>\n",
       "      <td>1.138565</td>\n",
       "      <td>1.822274</td>\n",
       "    </tr>\n",
       "    <tr>\n",
       "      <th>3</th>\n",
       "      <td>4.316121</td>\n",
       "      <td>4.580189</td>\n",
       "      <td>4.409340</td>\n",
       "      <td>2.331241</td>\n",
       "      <td>1.137591</td>\n",
       "      <td>1.820650</td>\n",
       "    </tr>\n",
       "    <tr>\n",
       "      <th>4</th>\n",
       "      <td>4.320668</td>\n",
       "      <td>4.574017</td>\n",
       "      <td>4.413238</td>\n",
       "      <td>2.331241</td>\n",
       "      <td>1.137915</td>\n",
       "      <td>1.821300</td>\n",
       "    </tr>\n",
       "    <tr>\n",
       "      <th>...</th>\n",
       "      <td>...</td>\n",
       "      <td>...</td>\n",
       "      <td>...</td>\n",
       "      <td>...</td>\n",
       "      <td>...</td>\n",
       "      <td>...</td>\n",
       "    </tr>\n",
       "    <tr>\n",
       "      <th>7775</th>\n",
       "      <td>1.887885</td>\n",
       "      <td>2.490394</td>\n",
       "      <td>2.143180</td>\n",
       "      <td>0.734836</td>\n",
       "      <td>0.465899</td>\n",
       "      <td>0.502602</td>\n",
       "    </tr>\n",
       "    <tr>\n",
       "      <th>7776</th>\n",
       "      <td>1.888534</td>\n",
       "      <td>2.489095</td>\n",
       "      <td>2.145129</td>\n",
       "      <td>0.735485</td>\n",
       "      <td>0.465575</td>\n",
       "      <td>0.502277</td>\n",
       "    </tr>\n",
       "    <tr>\n",
       "      <th>7777</th>\n",
       "      <td>1.887560</td>\n",
       "      <td>2.490394</td>\n",
       "      <td>2.147727</td>\n",
       "      <td>0.736135</td>\n",
       "      <td>0.466224</td>\n",
       "      <td>0.502602</td>\n",
       "    </tr>\n",
       "    <tr>\n",
       "      <th>7778</th>\n",
       "      <td>1.890808</td>\n",
       "      <td>2.490070</td>\n",
       "      <td>2.146753</td>\n",
       "      <td>0.737434</td>\n",
       "      <td>0.468173</td>\n",
       "      <td>0.504226</td>\n",
       "    </tr>\n",
       "    <tr>\n",
       "      <th>7779</th>\n",
       "      <td>1.889184</td>\n",
       "      <td>2.492993</td>\n",
       "      <td>2.146753</td>\n",
       "      <td>0.736784</td>\n",
       "      <td>0.466874</td>\n",
       "      <td>0.503252</td>\n",
       "    </tr>\n",
       "  </tbody>\n",
       "</table>\n",
       "<p>7780 rows × 6 columns</p>\n",
       "</div>"
      ],
      "text/plain": [
       "      yellow_g     red_g    blue_g  yellow_p     red_p    blue_p\n",
       "0     4.323592  4.577590  4.415512  2.333839  1.139864  1.823249\n",
       "1     4.322292  4.577915  4.413563  2.331241  1.138240  1.821625\n",
       "2     4.320343  4.578564  4.410640  2.331890  1.138565  1.822274\n",
       "3     4.316121  4.580189  4.409340  2.331241  1.137591  1.820650\n",
       "4     4.320668  4.574017  4.413238  2.331241  1.137915  1.821300\n",
       "...        ...       ...       ...       ...       ...       ...\n",
       "7775  1.887885  2.490394  2.143180  0.734836  0.465899  0.502602\n",
       "7776  1.888534  2.489095  2.145129  0.735485  0.465575  0.502277\n",
       "7777  1.887560  2.490394  2.147727  0.736135  0.466224  0.502602\n",
       "7778  1.890808  2.490070  2.146753  0.737434  0.468173  0.504226\n",
       "7779  1.889184  2.492993  2.146753  0.736784  0.466874  0.503252\n",
       "\n",
       "[7780 rows x 6 columns]"
      ]
     },
     "execution_count": 3,
     "metadata": {},
     "output_type": "execute_result"
    }
   ],
   "source": [
    "cal_data"
   ]
  },
  {
   "cell_type": "markdown",
   "metadata": {},
   "source": [
    "Make linear regression model with sklearn"
   ]
  },
  {
   "cell_type": "code",
   "execution_count": 11,
   "metadata": {},
   "outputs": [
    {
     "data": {
      "image/png": "[encoded data removed]",
      "text/plain": [
       "<Figure size 432x288 with 1 Axes>"
      ]
     },
     "metadata": {},
     "output_type": "display_data"
    }
   ],
   "source": [
    "def make_regression(data, color, plot = True):\n",
    "    \"\"\"\n",
    "    Uses sklearn linear regression tool to make linear models for each wave gauge\n",
    "        data - pandas DataFrame with specific column naming convention\n",
    "        color - color of wave gauge/pot unit\n",
    "        plot - decides whether or not to make a plot of the result\n",
    "    Returns: \n",
    "        Linear regression model\n",
    "        \n",
    "    \"\"\"\n",
    "    # values converts it into a numpy array\n",
    "    # -1 means that calculate the dimension of rows, but have 1 column\n",
    "    \n",
    "    X = data.loc[:, color + \"_g\"].values.reshape(-1, 1) # voltage as input\n",
    "    Y = data.loc[:, color + \"_p\"].values.reshape(-1, 1) * 10 # potentiometer \"height\" as output\n",
    "    linear_regressor = LinearRegression()\n",
    "    model = linear_regressor.fit(X, Y)\n",
    "    \n",
    "    if plot:\n",
    "        plt.scatter(X, Y, color = 'k', alpha = 0.1)\n",
    "        plt.plot(X, model.predict(X), color = color, label = color)\n",
    "        plt.ylabel(\"Potentiometer (cm)\")\n",
    "        plt.xlabel(\"Wave gauge (V)\")\n",
    "        plt.title(\"Linearization curve\")\n",
    "        plt.legend()\n",
    "    return model\n",
    "\n",
    "yellow_model = make_regression(cal_data, \"yellow\")\n",
    "red_model = make_regression(cal_data, \"red\")\n",
    "blue_model = make_regression(cal_data, \"blue\")"
   ]
  },
  {
   "cell_type": "markdown",
   "metadata": {},
   "source": [
    "Take sklearn model and put it in y=mx+b form, store as `lambda` function"
   ]
  },
  {
   "cell_type": "code",
   "execution_count": 23,
   "metadata": {},
   "outputs": [],
   "source": [
    "def model_func(model):\n",
    "    '''\n",
    "    extract line equation from sklearn linear regression\n",
    "    '''\n",
    "    # Slope of line is rise / run, run = 1\n",
    "    b = model.predict([[0]]).tolist()[0][0]\n",
    "    m = model.predict([[1]]).tolist()[0][0] - b\n",
    "    \n",
    "    # Return line with no intercept - assumes data is centered on mean\n",
    "    return lambda x: m * x\n",
    "\n",
    "yellow = model_func(yellow_model)\n",
    "blue = model_func(blue_model)\n",
    "red = model_func(red_model)"
   ]
  },
  {
   "cell_type": "markdown",
   "metadata": {},
   "source": [
    "Load wave data, center on mean"
   ]
  },
  {
   "cell_type": "code",
   "execution_count": 13,
   "metadata": {},
   "outputs": [
    {
     "data": {
      "text/plain": [
       "(50.0, 100.0)"
      ]
     },
     "execution_count": 13,
     "metadata": {},
     "output_type": "execute_result"
    },
    {
     "data": {
      "image/png": "[encoded data removed]",
      "text/plain": [
       "<Figure size 432x288 with 1 Axes>"
      ]
     },
     "metadata": {},
     "output_type": "display_data"
    }
   ],
   "source": [
    "data_file = \"../data/9_28_21/9_28_21_waves_5_1.8.lvm\"\n",
    "wave_data = pd.read_csv(\n",
    "    data_file,\n",
    "    sep = '\\t', \n",
    "    skiprows = 23, \n",
    "    usecols = [0,1,2,3], \n",
    "    names = ['time', 'yellow', 'red', 'blue'],\n",
    "    index_col = 0\n",
    ")\n",
    "\n",
    "# center on mean\n",
    "wave_data = wave_data.apply(lambda x: x-x.mean())\n",
    "\n",
    "plt.plot(wave_data[\"yellow\"])\n",
    "plt.xlim([50, 100]) # seconds"
   ]
  },
  {
   "cell_type": "code",
   "execution_count": 14,
   "metadata": {},
   "outputs": [
    {
     "data": {
      "text/html": [
       "<div>\n",
       "<style scoped>\n",
       "    .dataframe tbody tr th:only-of-type {\n",
       "        vertical-align: middle;\n",
       "    }\n",
       "\n",
       "    .dataframe tbody tr th {\n",
       "        vertical-align: top;\n",
       "    }\n",
       "\n",
       "    .dataframe thead th {\n",
       "        text-align: right;\n",
       "    }\n",
       "</style>\n",
       "<table border=\"1\" class=\"dataframe\">\n",
       "  <thead>\n",
       "    <tr style=\"text-align: right;\">\n",
       "      <th></th>\n",
       "      <th>yellow</th>\n",
       "      <th>red</th>\n",
       "      <th>blue</th>\n",
       "    </tr>\n",
       "    <tr>\n",
       "      <th>time</th>\n",
       "      <th></th>\n",
       "      <th></th>\n",
       "      <th></th>\n",
       "    </tr>\n",
       "  </thead>\n",
       "  <tbody>\n",
       "    <tr>\n",
       "      <th>0.00</th>\n",
       "      <td>0.180255</td>\n",
       "      <td>0.293588</td>\n",
       "      <td>-0.376423</td>\n",
       "    </tr>\n",
       "    <tr>\n",
       "      <th>0.01</th>\n",
       "      <td>0.175708</td>\n",
       "      <td>0.294887</td>\n",
       "      <td>-0.377072</td>\n",
       "    </tr>\n",
       "    <tr>\n",
       "      <th>0.02</th>\n",
       "      <td>0.173434</td>\n",
       "      <td>0.290990</td>\n",
       "      <td>-0.381295</td>\n",
       "    </tr>\n",
       "    <tr>\n",
       "      <th>0.03</th>\n",
       "      <td>0.179930</td>\n",
       "      <td>0.333539</td>\n",
       "      <td>-0.371875</td>\n",
       "    </tr>\n",
       "    <tr>\n",
       "      <th>0.04</th>\n",
       "      <td>0.172135</td>\n",
       "      <td>0.329966</td>\n",
       "      <td>-0.378047</td>\n",
       "    </tr>\n",
       "    <tr>\n",
       "      <th>...</th>\n",
       "      <td>...</td>\n",
       "      <td>...</td>\n",
       "      <td>...</td>\n",
       "    </tr>\n",
       "    <tr>\n",
       "      <th>329.05</th>\n",
       "      <td>0.025323</td>\n",
       "      <td>0.170162</td>\n",
       "      <td>-0.027583</td>\n",
       "    </tr>\n",
       "    <tr>\n",
       "      <th>329.06</th>\n",
       "      <td>0.021750</td>\n",
       "      <td>0.170812</td>\n",
       "      <td>-0.030831</td>\n",
       "    </tr>\n",
       "    <tr>\n",
       "      <th>329.07</th>\n",
       "      <td>0.026947</td>\n",
       "      <td>0.168538</td>\n",
       "      <td>-0.032455</td>\n",
       "    </tr>\n",
       "    <tr>\n",
       "      <th>329.08</th>\n",
       "      <td>0.026623</td>\n",
       "      <td>0.171137</td>\n",
       "      <td>-0.035379</td>\n",
       "    </tr>\n",
       "    <tr>\n",
       "      <th>329.09</th>\n",
       "      <td>0.022400</td>\n",
       "      <td>0.166265</td>\n",
       "      <td>-0.045447</td>\n",
       "    </tr>\n",
       "  </tbody>\n",
       "</table>\n",
       "<p>32910 rows × 3 columns</p>\n",
       "</div>"
      ],
      "text/plain": [
       "          yellow       red      blue\n",
       "time                                \n",
       "0.00    0.180255  0.293588 -0.376423\n",
       "0.01    0.175708  0.294887 -0.377072\n",
       "0.02    0.173434  0.290990 -0.381295\n",
       "0.03    0.179930  0.333539 -0.371875\n",
       "0.04    0.172135  0.329966 -0.378047\n",
       "...          ...       ...       ...\n",
       "329.05  0.025323  0.170162 -0.027583\n",
       "329.06  0.021750  0.170812 -0.030831\n",
       "329.07  0.026947  0.168538 -0.032455\n",
       "329.08  0.026623  0.171137 -0.035379\n",
       "329.09  0.022400  0.166265 -0.045447\n",
       "\n",
       "[32910 rows x 3 columns]"
      ]
     },
     "execution_count": 14,
     "metadata": {},
     "output_type": "execute_result"
    }
   ],
   "source": [
    "wave_data"
   ]
  },
  {
   "cell_type": "markdown",
   "metadata": {},
   "source": [
    "Turn voltages into heights with respective calibration curves"
   ]
  },
  {
   "cell_type": "code",
   "execution_count": 15,
   "metadata": {
    "collapsed": true
   },
   "outputs": [],
   "source": [
    "wave_height = pd.DataFrame()\n",
    "wave_height['yellow'] = wave_data['yellow'].apply(yellow)\n",
    "wave_height['blue'] = wave_data['blue'].apply(blue)\n",
    "wave_height['red'] = wave_data['red'].apply(red)"
   ]
  },
  {
   "cell_type": "code",
   "execution_count": 16,
   "metadata": {},
   "outputs": [
    {
     "data": {
      "text/html": [
       "<div>\n",
       "<style scoped>\n",
       "    .dataframe tbody tr th:only-of-type {\n",
       "        vertical-align: middle;\n",
       "    }\n",
       "\n",
       "    .dataframe tbody tr th {\n",
       "        vertical-align: top;\n",
       "    }\n",
       "\n",
       "    .dataframe thead th {\n",
       "        text-align: right;\n",
       "    }\n",
       "</style>\n",
       "<table border=\"1\" class=\"dataframe\">\n",
       "  <thead>\n",
       "    <tr style=\"text-align: right;\">\n",
       "      <th></th>\n",
       "      <th>yellow</th>\n",
       "      <th>blue</th>\n",
       "      <th>red</th>\n",
       "    </tr>\n",
       "    <tr>\n",
       "      <th>time</th>\n",
       "      <th></th>\n",
       "      <th></th>\n",
       "      <th></th>\n",
       "    </tr>\n",
       "  </thead>\n",
       "  <tbody>\n",
       "    <tr>\n",
       "      <th>0.00</th>\n",
       "      <td>1.181176</td>\n",
       "      <td>-2.192078</td>\n",
       "      <td>0.932980</td>\n",
       "    </tr>\n",
       "    <tr>\n",
       "      <th>0.01</th>\n",
       "      <td>1.151380</td>\n",
       "      <td>-2.195858</td>\n",
       "      <td>0.937108</td>\n",
       "    </tr>\n",
       "    <tr>\n",
       "      <th>0.02</th>\n",
       "      <td>1.136479</td>\n",
       "      <td>-2.220450</td>\n",
       "      <td>0.924724</td>\n",
       "    </tr>\n",
       "    <tr>\n",
       "      <th>0.03</th>\n",
       "      <td>1.179046</td>\n",
       "      <td>-2.165593</td>\n",
       "      <td>1.059938</td>\n",
       "    </tr>\n",
       "    <tr>\n",
       "      <th>0.04</th>\n",
       "      <td>1.127967</td>\n",
       "      <td>-2.201536</td>\n",
       "      <td>1.048584</td>\n",
       "    </tr>\n",
       "    <tr>\n",
       "      <th>...</th>\n",
       "      <td>...</td>\n",
       "      <td>...</td>\n",
       "      <td>...</td>\n",
       "    </tr>\n",
       "    <tr>\n",
       "      <th>329.05</th>\n",
       "      <td>0.165938</td>\n",
       "      <td>-0.160627</td>\n",
       "      <td>0.540750</td>\n",
       "    </tr>\n",
       "    <tr>\n",
       "      <th>329.06</th>\n",
       "      <td>0.142525</td>\n",
       "      <td>-0.179542</td>\n",
       "      <td>0.542815</td>\n",
       "    </tr>\n",
       "    <tr>\n",
       "      <th>329.07</th>\n",
       "      <td>0.176580</td>\n",
       "      <td>-0.188999</td>\n",
       "      <td>0.535589</td>\n",
       "    </tr>\n",
       "    <tr>\n",
       "      <th>329.08</th>\n",
       "      <td>0.174457</td>\n",
       "      <td>-0.206027</td>\n",
       "      <td>0.543848</td>\n",
       "    </tr>\n",
       "    <tr>\n",
       "      <th>329.09</th>\n",
       "      <td>0.146784</td>\n",
       "      <td>-0.264657</td>\n",
       "      <td>0.528366</td>\n",
       "    </tr>\n",
       "  </tbody>\n",
       "</table>\n",
       "<p>32910 rows × 3 columns</p>\n",
       "</div>"
      ],
      "text/plain": [
       "          yellow      blue       red\n",
       "time                                \n",
       "0.00    1.181176 -2.192078  0.932980\n",
       "0.01    1.151380 -2.195858  0.937108\n",
       "0.02    1.136479 -2.220450  0.924724\n",
       "0.03    1.179046 -2.165593  1.059938\n",
       "0.04    1.127967 -2.201536  1.048584\n",
       "...          ...       ...       ...\n",
       "329.05  0.165938 -0.160627  0.540750\n",
       "329.06  0.142525 -0.179542  0.542815\n",
       "329.07  0.176580 -0.188999  0.535589\n",
       "329.08  0.174457 -0.206027  0.543848\n",
       "329.09  0.146784 -0.264657  0.528366\n",
       "\n",
       "[32910 rows x 3 columns]"
      ]
     },
     "execution_count": 16,
     "metadata": {},
     "output_type": "execute_result"
    }
   ],
   "source": [
    "wave_height"
   ]
  },
  {
   "cell_type": "code",
   "execution_count": 28,
   "metadata": {},
   "outputs": [
    {
     "data": {
      "text/plain": [
       "(200.0, 250.0)"
      ]
     },
     "execution_count": 28,
     "metadata": {},
     "output_type": "execute_result"
    },
    {
     "data": {
      "image/png": "[encoded data removed]",
      "text/plain": [
       "<Figure size 432x288 with 1 Axes>"
      ]
     },
     "metadata": {},
     "output_type": "display_data"
    }
   ],
   "source": [
    "plt.plot(wave_height[\"blue\"])\n",
    "plt.xlim([200, 250]) # seconds"
   ]
  },
  {
   "cell_type": "code",
   "execution_count": null,
   "metadata": {
    "collapsed": true
   },
   "outputs": [],
   "source": []
  },
  {
   "cell_type": "code",
   "execution_count": null,
   "metadata": {
    "collapsed": true
   },
   "outputs": [],
   "source": []
  },
  {
   "cell_type": "code",
   "execution_count": null,
   "metadata": {
    "collapsed": true
   },
   "outputs": [],
   "source": []
  }
 ],
 "metadata": {
  "kernelspec": {
   "display_name": "Python 3",
   "language": "python",
   "name": "python3"
  },
  "language_info": {
   "codemirror_mode": {
    "name": "ipython",
    "version": 3
   },
   "file_extension": ".py",
   "mimetype": "text/x-python",
   "name": "python",
   "nbconvert_exporter": "python",
   "pygments_lexer": "ipython3",
   "version": "3.6.1"
  }
 },
 "nbformat": 4,
 "nbformat_minor": 2
}
